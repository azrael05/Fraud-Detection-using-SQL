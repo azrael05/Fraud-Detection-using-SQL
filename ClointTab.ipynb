{
 "cells": [
  {
   "cell_type": "code",
   "execution_count": 2,
   "metadata": {},
   "outputs": [],
   "source": [
    "import mysql.connector as mysql\n",
    "import pandas as pd\n",
    "import re"
   ]
  },
  {
   "cell_type": "code",
   "execution_count": 3,
   "metadata": {},
   "outputs": [],
   "source": [
    "CREATE_TABLES=True\n",
    "POPULATE_TABLES=False\n",
    "DROP_TABLES = False\n",
    "PRINT_RESULTS=True\n",
    "EXPORT_TO_EXCEL=True\n",
    "\n",
    "if DROP_TABLES or CREATE_TABLES:\n",
    "    CREATE_TABLES=True\n",
    "    POPULATE_TABLES=True"
   ]
  },
  {
   "cell_type": "code",
   "execution_count": 4,
   "metadata": {},
   "outputs": [],
   "source": [
    "def convert_to_pretty_table(cursor):\n",
    "    from prettytable import PrettyTable\n",
    "  \n",
    "    # Specify the Column Names while initializing the Table\n",
    "    column_names=[]\n",
    "\n",
    "    for x in cursor.description:\n",
    "        column_names.append(x[0])\n",
    "    myTable = PrettyTable(column_names)\n",
    "    \n",
    "    for x in cursor:\n",
    "        myTable.add_row(list(x))\n",
    "    \n",
    "    print(myTable)\n",
    "\n",
    "def convert_to_dataframe(cursor):\n",
    "    column_names=[]\n",
    "    for x in cursor.description:\n",
    "        column_names.append(x[0])\n",
    "    df=pd.DataFrame(columns=column_names)\n",
    "    for x in cursor:\n",
    "        df.loc[len(df)]=list(x)\n",
    "    return df"
   ]
  },
  {
   "cell_type": "code",
   "execution_count": 5,
   "metadata": {},
   "outputs": [],
   "source": [
    "connector=mysql.connect(host='localhost', user='root', password='password', database='ClointFusion')\n",
    "cursor=connector.cursor()"
   ]
  },
  {
   "cell_type": "code",
   "execution_count": 6,
   "metadata": {},
   "outputs": [],
   "source": [
    "SHOW_TABLES_QUERY='SHOW TABLES'\n",
    "cursor.execute(SHOW_TABLES_QUERY)\n",
    "tables=cursor.fetchall()\n",
    "if DROP_TABLES:\n",
    "    for table in tables:\n",
    "        cursor.execute(\"DROP TABLE {table}\".format(table=table[0]))\n",
    "    connector.commit()"
   ]
  },
  {
   "cell_type": "code",
   "execution_count": 7,
   "metadata": {},
   "outputs": [
    {
     "name": "stdout",
     "output_type": "stream",
     "text": [
      "1\n",
      "2\n",
      "3\n",
      "4\n"
     ]
    }
   ],
   "source": [
    "if CREATE_TABLES:\n",
    "    tables=[\"CREATE TABLE if not exists order_report(OrderID INT,sku VARCHAR(255),Order_Qty INT)\"\n",
    "    ,\"Create TABLE if not exists sku_master(sku VARCHAR(255),Weight FLOAT)\"\n",
    "    ,\"Create TABLE if not exists Courier_company_invoice(AWB_Code VARCHAR(255),OrderID INT,Charged_Weight FLOAT,Warehouse_Pincode INT,Customer_Pincode INT,Zone varchar(255),Type_of_Shipment varchar(255),Billing_Amount FLOAT)\"\n",
    "    ,\"CREATE TABLE if not exists company_pincode (Warehouse_Pincode INT,Customer_Pincode INT,Zone varchar(255))\",\"CREATE TABLE if not exists courier_rates(Zone varchar(255),type varchar(255),cond varchar(255),Charges FLOAT)\"]\n",
    "\n",
    "    for table in tables:\n",
    "        print(tables.index(table)+1)\n",
    "        cursor.execute(table)\n",
    "\n",
    "if POPULATE_TABLES:\n",
    "    excel_path=r\"Dataset\\Company X - Order Report.xlsx\"\n",
    "    df=pd.read_excel(excel_path)\n",
    "    for row in range(df.shape[0]):\n",
    "        order_id,sku,order_qty=df.iloc[row,:].to_list()\n",
    "        cursor.execute(\"INSERT INTO order_report VALUES \"+str((order_id,sku,order_qty)))\n",
    "    cursor.execute(\"SELECT COUNT(*) FROM order_report\")\n",
    "    if cursor.fetchall()[0][0]!=df.shape[0]:\n",
    "        print(\"Error\")\n",
    "    excel_path=r\"Dataset\\Company X - SKU Master.xlsx\"\n",
    "    df=pd.read_excel(excel_path)\n",
    "    for row in range(df.shape[0]):\n",
    "        sku,weight=df.iloc[row,:].to_list()\n",
    "        cursor.execute(\"INSERT INTO sku_master VALUES \"+str((sku,weight)))\n",
    "    cursor.execute(\"SELECT COUNT(*) FROM sku_master\")\n",
    "    if cursor.fetchall()[0][0]!=df.shape[0]:\n",
    "        print(\"Error\")\n",
    "\n",
    "    excel_path=r\"Dataset\\Courier Company - Invoice.xlsx\"\n",
    "    df=pd.read_excel(excel_path)\n",
    "    for row in range(df.shape[0]):\n",
    "        AWB_Code,OrderID,Charged_Weight,Warehouse_Pincode,Customer_Pincode,Zone,Type_of_Shipment,Billing_Amount=df.iloc[row,:].to_list()\n",
    "        cursor.execute(\"INSERT INTO Courier_company_invoice VALUES \"+str((AWB_Code,OrderID,Charged_Weight,Warehouse_Pincode,Customer_Pincode,Zone,Type_of_Shipment,Billing_Amount)))\n",
    "    cursor.execute(\"SELECT Count(*) From Courier_company_invoice\")\n",
    "    if cursor.fetchall()[0][0]!=df.shape[0]:\n",
    "        print(\"Error\")\n",
    "\n",
    "    excel_path=r\"Dataset\\Company X - Pincode Zones.xlsx\"\n",
    "    df=pd.read_excel(excel_path)\n",
    "    for row in range(df.shape[0]):\n",
    "        Warehouse_Pincode,Customer_Pincode,Zone=df.iloc[row,:].to_list()\n",
    "        cursor.execute(\"INSERT INTO company_pincode VALUES \"+str((Warehouse_Pincode,Customer_Pincode,Zone)))\n",
    "    cursor.execute(\"SELECT COUNT(*) FROM company_pincode\")\n",
    "    if cursor.fetchall()[0][0]!=df.shape[0]:\n",
    "        print(\"Error\")\n",
    "\n",
    "    df=pd.read_excel(r\"Dataset\\Courier Company - Rates.xlsx\")\n",
    "    df=df.transpose()\n",
    "    df.rename(columns={0:'charge'},inplace=True)\n",
    "    df[\"zone\"]=None\n",
    "    df[\"cond\"]=None\n",
    "    df[\"type\"]=None\n",
    "    for i in range(df.shape[0]):\n",
    "        df[\"type\"][i]=df.index[i].split('_')[0]\n",
    "        df[\"zone\"][i]=df.index[i].split('_')[1]\n",
    "        df[\"cond\"][i]=df.index[i].split('_')[2]\n",
    "    for i in range(df.shape[0]):\n",
    "        cursor.execute(\"INSERT INTO courier_rates VALUES \"+str((df[\"zone\"][i],df[\"type\"][i],df[\"cond\"][i],df[\"charge\"][i])))\n",
    "    cursor.execute(\"SELECT COUNT(*) FROM courier_rates\")\n",
    "    if cursor.fetchall()[0][0]!=df.shape[0]:\n",
    "        print(\"Error\")\n",
    "\n",
    "    connector.commit()"
   ]
  },
  {
   "cell_type": "code",
   "execution_count": null,
   "metadata": {},
   "outputs": [
    {
     "ename": "NameError",
     "evalue": "name 'cursor' is not defined",
     "output_type": "error",
     "traceback": [
      "\u001b[1;31m---------------------------------------------------------------------------\u001b[0m",
      "\u001b[1;31mNameError\u001b[0m                                 Traceback (most recent call last)",
      "\u001b[1;32m~\\AppData\\Local\\Temp\\ipykernel_2972\\3492042825.py\u001b[0m in \u001b[0;36m<cell line: 1>\u001b[1;34m()\u001b[0m\n\u001b[1;32m----> 1\u001b[1;33m cursor.execute(\"\"\"SELECT COUNT(o.OrderID) as order_report,COUNT(s.sku) AS sku_master, COUNT(c.OrderID) as Courier_company_invoice,COUNT(cp.Zone) as company_pincode,count(cr.Zone) as courier_rates \n\u001b[0m\u001b[0;32m      2\u001b[0m                 FROM order_report o, sku_master s, Courier_company_invoice c, company_pincode cp, courier_rates cr\"\"\")\n\u001b[0;32m      3\u001b[0m \u001b[0mconvert_to_pretty_table\u001b[0m\u001b[1;33m(\u001b[0m\u001b[0mcursor\u001b[0m\u001b[1;33m)\u001b[0m\u001b[1;33m\u001b[0m\u001b[1;33m\u001b[0m\u001b[0m\n",
      "\u001b[1;31mNameError\u001b[0m: name 'cursor' is not defined"
     ]
    }
   ],
   "source": [
    "cursor.execute(\"\"\"SELECT COUNT(o.OrderID) as order_report,COUNT(s.sku) AS sku_master, COUNT(c.OrderID) as Courier_company_invoice,COUNT(cp.Zone) as company_pincode,count(cr.Zone) as courier_rates \n",
    "                FROM order_report o, sku_master s, Courier_company_invoice c, company_pincode cp, courier_rates cr\"\"\")\n",
    "convert_to_pretty_table(cursor)"
   ]
  },
  {
   "cell_type": "code",
   "execution_count": null,
   "metadata": {},
   "outputs": [],
   "source": [
    "cursor.execute(\"SELECT * FROM order_report LIMIT 5\")\n",
    "convert_to_pretty_table(cursor)"
   ]
  },
  {
   "cell_type": "code",
   "execution_count": null,
   "metadata": {},
   "outputs": [],
   "source": [
    "cursor.execute(\"SELECT * FROM sku_master LIMIT 5\")\n",
    "convert_to_pretty_table(cursor)"
   ]
  },
  {
   "cell_type": "code",
   "execution_count": null,
   "metadata": {},
   "outputs": [],
   "source": [
    "cursor.execute(\"SELECT * FROM Courier_company_invoice LIMIT 5\")\n",
    "convert_to_pretty_table(cursor)"
   ]
  },
  {
   "cell_type": "code",
   "execution_count": null,
   "metadata": {},
   "outputs": [],
   "source": [
    "cursor.execute(\"SELECT * FROM company_pincode LIMIT 5\")\n",
    "convert_to_pretty_table(cursor)"
   ]
  },
  {
   "cell_type": "code",
   "execution_count": null,
   "metadata": {},
   "outputs": [],
   "source": [
    "cursor.execute(\"SELECT * FROM courier_rates\")\n",
    "convert_to_pretty_table(cursor)"
   ]
  },
  {
   "cell_type": "code",
   "execution_count": null,
   "metadata": {},
   "outputs": [],
   "source": [
    "def get_charges(cursor):\n",
    "    cursor.execute(\"SELECT * FROM courier_rates\")\n",
    "    return convert_to_dataframe(cursor)\n",
    "\n",
    "import numpy as np\n",
    "def calc_charges(calculate_charge,weight,zone):\n",
    "    charges=get_charges(cursor)\n",
    "    total=0.00\n",
    "    \n",
    "    if \"forward\" in calculate_charge.lower():\n",
    "        fixed_charge=float(charges[\"Charges\"].iloc[np.where((charges[\"cond\"]==\"fixed\") & (charges[\"type\"]==\"fwd\") & (charges[\"Zone\"]==zone))[0]])\n",
    "        additional_charge=float(charges[\"Charges\"].iloc[np.where((charges[\"cond\"]==\"additional\") & (charges[\"type\"]==\"fwd\") & (charges[\"Zone\"]==zone))[0]])\n",
    "        total+=fixed_charge+additional_charge*(weight-0.5 if weight-0.5>0 else 0)\n",
    "\n",
    "    if \"rto\" in calculate_charge.lower():\n",
    "        fixed_charge=float(charges[\"Charges\"].iloc[np.where((charges[\"cond\"]==\"fixed\") & (charges[\"type\"]==\"rto\") & (charges[\"Zone\"]==zone))[0]])\n",
    "        additional_charge=float(charges[\"Charges\"].iloc[np.where((charges[\"cond\"]==\"additional\") & (charges[\"type\"]==\"rto\") & (charges[\"Zone\"]==zone))[0]])\n",
    "        total+=fixed_charge+additional_charge*(weight-0.5 if weight-0.5>0 else 0)\n",
    "    return total"
   ]
  },
  {
   "cell_type": "code",
   "execution_count": null,
   "metadata": {},
   "outputs": [],
   "source": [
    "cursor.execute(\"\"\"SELECT o.sku,o.OrderID, ROUND(CEILING(s.Weight*o.Order_Qty/500)/2,1) as total_weight_slab, (s.Weight*o.Order_Qty/1000) as total_weight_actual, cp.Zone as zone_actual ,c.Zone as zone_charged, c.Type_of_Shipment, c.Billing_Amount, c.Charged_Weight\n",
    "                FROM order_report o,sku_master s, Courier_company_invoice c, company_pincode cp\n",
    "                WHERE o.sku=s.sku AND o.OrderID=c.OrderID AND cp.Warehouse_Pincode=c.Warehouse_Pincode AND cp.Customer_Pincode=c.Customer_Pincode \"\"\")\n",
    "company_df=convert_to_dataframe(cursor)\n"
   ]
  },
  {
   "cell_type": "code",
   "execution_count": null,
   "metadata": {},
   "outputs": [],
   "source": [
    "company_df[\"actual_charge\"]=-1.00\n",
    "for i in range(company_df.shape[0]):\n",
    "    type_of_shipment=company_df[\"Type_of_Shipment\"][i]\n",
    "    slab=company_df[\"total_weight_slab\"][i]\n",
    "    zone=company_df[\"zone_actual\"][i]\n",
    "    company_df[\"actual_charge\"][i]=calc_charges(type_of_shipment,slab,zone)\n",
    "company_df[\"surcharge\"]=-company_df[\"actual_charge\"]+company_df[\"Billing_Amount\"]"
   ]
  },
  {
   "cell_type": "code",
   "execution_count": null,
   "metadata": {},
   "outputs": [],
   "source": [
    "company_df.head(5)"
   ]
  },
  {
   "cell_type": "code",
   "execution_count": null,
   "metadata": {},
   "outputs": [],
   "source": [
    "overcharged=np.where(company_df[\"Billing_Amount\"]>company_df[\"actual_charge\"])[0]\n",
    "undercharged=np.where(company_df[\"Billing_Amount\"]<company_df[\"actual_charge\"])[0]\n",
    "correct=np.where(company_df[\"Billing_Amount\"]==company_df[\"actual_charge\"])[0]"
   ]
  },
  {
   "cell_type": "code",
   "execution_count": null,
   "metadata": {},
   "outputs": [],
   "source": [
    "total_overcharged=np.sum(company_df[\"Billing_Amount\"].iloc[overcharged]-company_df[\"actual_charge\"].iloc[overcharged])\n",
    "total_undercharged=np.sum(company_df[\"Billing_Amount\"].iloc[undercharged]-company_df[\"actual_charge\"].iloc[undercharged])\n",
    "total_correct=np.sum(company_df[\"Billing_Amount\"].iloc[correct])"
   ]
  },
  {
   "cell_type": "code",
   "execution_count": null,
   "metadata": {},
   "outputs": [],
   "source": [
    "if PRINT_RESULTS:\n",
    "    output_df=pd.DataFrame(columns=[\"Charge\",\"Count\",\"Cost\"])\n",
    "    output_df[\"Charge\"]=[\"Overcharged\",\"Undercharged\",\"Corectly Charged\"]\n",
    "    output_df[\"Count\"]=[len(overcharged),len(undercharged),len(correct)]\n",
    "    output_df[\"Cost\"]=[total_overcharged,total_undercharged,total_correct]\n",
    "    print(output_df)"
   ]
  },
  {
   "cell_type": "code",
   "execution_count": null,
   "metadata": {},
   "outputs": [],
   "source": [
    "if EXPORT_TO_EXCEL:\n",
    "    company_df.to_excel(r\"D:\\Freelance\\Dataset-Clointtab\\company_df.xlsx\")\n",
    "    import openpyxl as op\n",
    "    wb=op.load_workbook(r\"D:\\Freelance\\Dataset-Clointtab\\company_df.xlsx\")\n",
    "    wb.create_sheet(\"Summary\")\n",
    "    ws=wb[\"Summary\"]\n",
    "    ws.append([\"Charge\",\"Count\",\"Value\"])\n",
    "    ws.append([\"Overcharged\",len(overcharged),total_overcharged])\n",
    "    ws.append([\"Undercharged\",len(undercharged),total_undercharged])\n",
    "    ws.append([\"Correctly Charged\",len(correct),total_correct])\n",
    "    wb.save(r\"D:\\Freelance\\Dataset-Clointtab\\company_df.xlsx\")"
   ]
  },
  {
   "cell_type": "code",
   "execution_count": null,
   "metadata": {},
   "outputs": [],
   "source": []
  }
 ],
 "metadata": {
  "kernelspec": {
   "display_name": "Python 3",
   "language": "python",
   "name": "python3"
  },
  "language_info": {
   "codemirror_mode": {
    "name": "ipython",
    "version": 3
   },
   "file_extension": ".py",
   "mimetype": "text/x-python",
   "name": "python",
   "nbconvert_exporter": "python",
   "pygments_lexer": "ipython3",
   "version": "3.10.7"
  },
  "orig_nbformat": 4,
  "vscode": {
   "interpreter": {
    "hash": "107d7b120a5b68773a87d4067e673630b35702e55ebab3138143d08b1c4d7cbc"
   }
  }
 },
 "nbformat": 4,
 "nbformat_minor": 2
}
